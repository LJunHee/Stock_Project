{
 "cells": [
  {
   "cell_type": "code",
   "execution_count": 13,
   "metadata": {},
   "outputs": [
    {
     "name": "stdout",
     "output_type": "stream",
     "text": [
      "Requirement already satisfied: pykrx in c:\\users\\wnsgm\\appdata\\local\\programs\\python\\python312\\lib\\site-packages (1.0.45)\n",
      "Requirement already satisfied: requests in c:\\users\\wnsgm\\appdata\\local\\programs\\python\\python312\\lib\\site-packages (from pykrx) (2.31.0)\n",
      "Requirement already satisfied: pandas in c:\\users\\wnsgm\\appdata\\local\\programs\\python\\python312\\lib\\site-packages (from pykrx) (2.2.1)\n",
      "Requirement already satisfied: datetime in c:\\users\\wnsgm\\appdata\\local\\programs\\python\\python312\\lib\\site-packages (from pykrx) (5.4)\n",
      "Requirement already satisfied: numpy in c:\\users\\wnsgm\\appdata\\local\\programs\\python\\python312\\lib\\site-packages (from pykrx) (1.26.4)\n",
      "Requirement already satisfied: xlrd in c:\\users\\wnsgm\\appdata\\local\\programs\\python\\python312\\lib\\site-packages (from pykrx) (2.0.1)\n",
      "Requirement already satisfied: deprecated in c:\\users\\wnsgm\\appdata\\local\\programs\\python\\python312\\lib\\site-packages (from pykrx) (1.2.14)\n",
      "Requirement already satisfied: multipledispatch in c:\\users\\wnsgm\\appdata\\local\\programs\\python\\python312\\lib\\site-packages (from pykrx) (1.0.0)\n",
      "Requirement already satisfied: matplotlib in c:\\users\\wnsgm\\appdata\\local\\programs\\python\\python312\\lib\\site-packages (from pykrx) (3.8.3)\n",
      "Requirement already satisfied: zope.interface in c:\\users\\wnsgm\\appdata\\local\\programs\\python\\python312\\lib\\site-packages (from datetime->pykrx) (6.2)\n",
      "Requirement already satisfied: pytz in c:\\users\\wnsgm\\appdata\\local\\programs\\python\\python312\\lib\\site-packages (from datetime->pykrx) (2024.1)\n",
      "Requirement already satisfied: wrapt<2,>=1.10 in c:\\users\\wnsgm\\appdata\\local\\programs\\python\\python312\\lib\\site-packages (from deprecated->pykrx) (1.16.0)\n",
      "Requirement already satisfied: contourpy>=1.0.1 in c:\\users\\wnsgm\\appdata\\local\\programs\\python\\python312\\lib\\site-packages (from matplotlib->pykrx) (1.2.0)\n",
      "Requirement already satisfied: cycler>=0.10 in c:\\users\\wnsgm\\appdata\\local\\programs\\python\\python312\\lib\\site-packages (from matplotlib->pykrx) (0.12.1)\n",
      "Requirement already satisfied: fonttools>=4.22.0 in c:\\users\\wnsgm\\appdata\\local\\programs\\python\\python312\\lib\\site-packages (from matplotlib->pykrx) (4.49.0)\n",
      "Requirement already satisfied: kiwisolver>=1.3.1 in c:\\users\\wnsgm\\appdata\\local\\programs\\python\\python312\\lib\\site-packages (from matplotlib->pykrx) (1.4.5)\n",
      "Requirement already satisfied: packaging>=20.0 in c:\\users\\wnsgm\\appdata\\roaming\\python\\python312\\site-packages (from matplotlib->pykrx) (23.2)\n",
      "Requirement already satisfied: pillow>=8 in c:\\users\\wnsgm\\appdata\\local\\programs\\python\\python312\\lib\\site-packages (from matplotlib->pykrx) (10.2.0)\n",
      "Requirement already satisfied: pyparsing>=2.3.1 in c:\\users\\wnsgm\\appdata\\local\\programs\\python\\python312\\lib\\site-packages (from matplotlib->pykrx) (3.1.2)\n",
      "Requirement already satisfied: python-dateutil>=2.7 in c:\\users\\wnsgm\\appdata\\roaming\\python\\python312\\site-packages (from matplotlib->pykrx) (2.9.0.post0)\n",
      "Requirement already satisfied: tzdata>=2022.7 in c:\\users\\wnsgm\\appdata\\local\\programs\\python\\python312\\lib\\site-packages (from pandas->pykrx) (2024.1)\n",
      "Requirement already satisfied: charset-normalizer<4,>=2 in c:\\users\\wnsgm\\appdata\\local\\programs\\python\\python312\\lib\\site-packages (from requests->pykrx) (3.3.2)\n",
      "Requirement already satisfied: idna<4,>=2.5 in c:\\users\\wnsgm\\appdata\\local\\programs\\python\\python312\\lib\\site-packages (from requests->pykrx) (3.6)\n",
      "Requirement already satisfied: urllib3<3,>=1.21.1 in c:\\users\\wnsgm\\appdata\\local\\programs\\python\\python312\\lib\\site-packages (from requests->pykrx) (2.2.1)\n",
      "Requirement already satisfied: certifi>=2017.4.17 in c:\\users\\wnsgm\\appdata\\local\\programs\\python\\python312\\lib\\site-packages (from requests->pykrx) (2024.2.2)\n",
      "Requirement already satisfied: six>=1.5 in c:\\users\\wnsgm\\appdata\\roaming\\python\\python312\\site-packages (from python-dateutil>=2.7->matplotlib->pykrx) (1.16.0)\n",
      "Requirement already satisfied: setuptools in c:\\users\\wnsgm\\appdata\\local\\programs\\python\\python312\\lib\\site-packages (from zope.interface->datetime->pykrx) (69.1.1)\n"
     ]
    }
   ],
   "source": [
    "!pip install pykrx\n",
    "\n",
    "import pykrx\n",
    "from pykrx import stock\n",
    "import pandas as pd"
   ]
  },
  {
   "cell_type": "code",
   "execution_count": 20,
   "metadata": {},
   "outputs": [],
   "source": [
    "numbers = [\n",
    "    \"207940\", \"006400\", \"010130\", \"051910\", \"005490\", \"373220\", \"051900\", \"128940\", \"000810\", \"003670\",\n",
    "    \"097950\", \"012330\", \"259960\", \"005380\", \"352820\", \"012450\", \"036570\", \"011070\", \"068270\", \"035420\",\n",
    "    \"000660\", \"034730\", \"086280\", \"018260\", \"028260\", \"009150\", \"011780\", \"450080\", \"090430\", \"011170\",\n",
    "    \"009540\", \"329180\", \"282330\", \"096770\", \"001570\", \"011790\", \"000270\", \"066570\", \"005830\", \"033780\",\n",
    "    \"032830\", \"326030\", \"271560\", \"003550\", \"005930\", \"138040\", \"402340\", \"010950\", \"000100\", \"361610\",\n",
    "    \"267250\", \"383220\", \"105560\", \"139480\", \"071050\", \"251270\", \"302440\", \"008770\", \"180640\", \"086790\",\n",
    "    \"021240\", \"161390\", \"035720\", \"241560\", \"047050\", \"017670\", \"047810\", \"022100\", \"078930\", \"055550\",\n",
    "    \"016360\", \"377300\", \"008930\", \"029780\", \"030200\", \"000720\", \"004020\", \"009830\", \"042660\", \"323410\",\n",
    "    \"004990\", \"036460\", \"002790\", \"028050\", \"015760\", \"003490\", \"007070\", \"030000\", \"034020\", \"035250\",\n",
    "    \"011200\", \"316140\", \"024110\", \"005940\", \"034220\", \"032640\", \"010140\", \"006800\", \"003410\", \"018880\"\n",
    "]\n",
    "\n",
    "stock_list = [\n",
    "    \"삼성바이오로직스\", \"삼성SDI\", \"고려아연\", \"LG화학\", \"POSCO홀딩스\", \"LG에너지솔루션\", \"LG생활건강\", \"한미약품\", \"삼성화재\", \"포스코퓨처엠\",\n",
    "    \"CJ제일제당\", \"현대모비스\", \"크래프톤\", \"현대차\", \"하이브\", \"한화에어로스페이스\", \"엔씨소프트\", \"LG이노텍\", \"셀트리온\", \"NAVER\",\n",
    "    \"SK하이닉스\", \"SK\", \"현대글로비스\", \"삼성SDS\", \"삼성물산\", \"삼성전기\", \"금호석유\", \"에코프로머티리얼즈\", \"아모레퍼시픽\", \"롯데케미칼\",\n",
    "    \"HD한국조선해양\", \"HD현대중공업\", \"BGF리테일\", \"SK이노베이션\", \"금양\", \"SKC\", \"기아\", \"LG전자\", \"DB손해보험\", \"KT&G\", \"삼성생명\",\n",
    "    \"SK 바이오팜\", \"오리온\", \"LG\", \"삼성전자\", \"메리츠금융지주\", \"SK스퀘어\", \"S-oil\", \"유한양행\", \"SK아이이테크놀리지\", \"HD현대\", \"F&F\",\n",
    "    \"KB금융\", \"이마트\", \"한국금융지주\", \"넷마블\", \"SK바이오사이언스\", \"호텔신라\", \"한진칼\", \"하나금융지주\", \"코웨이\", \"한국타이어앤테크놀로지\",\n",
    "    \"카카오\", \"두산밥캣\", \"포스코인터내셔널\", \"SK텔레콤\", \"한국항공우주\", \"포스코DX\", \"GS\", \"신한지주\", \"삼성증권\", \"카카오페이\",\n",
    "    \"한미사이언스\", \"삼성카드\", \"KT\", \"현대건설\", \"현대제철\", \"한화솔루션\", \"한화오션\", \"카카오뱅크\", \"롯데지주\", \"한국가스공사\", \"아모레G\",\n",
    "    \"삼성엔지니어링\", \"한국전력\", \"대한항공\", \"GS리테일\", \"제일기획\", \"두산에너빌리티\", \"강원랜드\", \"HMM\", \"우리금융지주\", \"기업은행\",\n",
    "    \"NH투자증권\", \"LG디스플레이\", \"LG유플러스\", \"삼성중공업\", \"미래에셋증권\", \"쌍용C&E\", \"한온시스템\"\n",
    "]\n",
    "\n"
   ]
  },
  {
   "cell_type": "code",
   "execution_count": 22,
   "metadata": {},
   "outputs": [],
   "source": [
    "for code, name in zip(numbers, stock_list):\n",
    "    df = stock.get_market_ohlcv(\"19880325\", \"20240329\", code, \"d\")\n",
    "    df.to_excel(excel_writer= name+'.xlsx')"
   ]
  },
  {
   "cell_type": "code",
   "execution_count": null,
   "metadata": {},
   "outputs": [],
   "source": []
  },
  {
   "cell_type": "code",
   "execution_count": null,
   "metadata": {},
   "outputs": [],
   "source": []
  }
 ],
 "metadata": {
  "kernelspec": {
   "display_name": "Python 3",
   "language": "python",
   "name": "python3"
  },
  "language_info": {
   "codemirror_mode": {
    "name": "ipython",
    "version": 3
   },
   "file_extension": ".py",
   "mimetype": "text/x-python",
   "name": "python",
   "nbconvert_exporter": "python",
   "pygments_lexer": "ipython3",
   "version": "3.12.2"
  }
 },
 "nbformat": 4,
 "nbformat_minor": 2
}
